{
 "cells": [
  {
   "cell_type": "code",
   "execution_count": 1,
   "id": "1cbfaded",
   "metadata": {},
   "outputs": [
    {
     "name": "stdout",
     "output_type": "stream",
     "text": [
      "ChatBot: Hi! I am your chatbot. Type 'bye' to exit.\n",
      "You: hi\n",
      "ChatBot: Hello! How can I help you?\n",
      "You: how are you\n",
      "ChatBot: I'm doing well, thank you for asking.\n",
      "You: bye\n",
      "ChatBot: Goodbye! Have a great day.\n"
     ]
    }
   ],
   "source": [
    "print(\"ChatBot: Hi! I am your chatbot. Type 'bye' to exit.\")\n",
    "\n",
    "while True:\n",
    "    # Take user input and convert to lowercase for easy matching\n",
    "    user_input = input(\"You: \").lower()\n",
    "\n",
    "    # Check for matching responses\n",
    "    if user_input == \"hi\" or user_input == \"hello\":\n",
    "        print(\"ChatBot: Hello! How can I help you?\")\n",
    "\n",
    "    elif user_input == \"how are you\":\n",
    "        print(\"ChatBot: I'm doing well, thank you for asking.\")\n",
    "\n",
    "    elif user_input == \"what is your name\":\n",
    "        print(\"ChatBot: I am ChatBot, your virtual assistant.\")\n",
    "\n",
    "    elif user_input == \"bye\":\n",
    "        print(\"ChatBot: Goodbye! Have a great day.\")\n",
    "        break\n",
    "\n",
    "    else:\n",
    "        print(\"ChatBot: Sorry, I don't understand that.\")"
   ]
  },
  {
   "cell_type": "code",
   "execution_count": null,
   "id": "0fbd524c",
   "metadata": {},
   "outputs": [],
   "source": []
  }
 ],
 "metadata": {
  "kernelspec": {
   "display_name": "Python 3 (ipykernel)",
   "language": "python",
   "name": "python3"
  },
  "language_info": {
   "codemirror_mode": {
    "name": "ipython",
    "version": 3
   },
   "file_extension": ".py",
   "mimetype": "text/x-python",
   "name": "python",
   "nbconvert_exporter": "python",
   "pygments_lexer": "ipython3",
   "version": "3.11.5"
  }
 },
 "nbformat": 4,
 "nbformat_minor": 5
}
